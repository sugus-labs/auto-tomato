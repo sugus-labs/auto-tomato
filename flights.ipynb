{
 "cells": [
  {
   "cell_type": "code",
   "execution_count": 1,
   "metadata": {},
   "outputs": [],
   "source": [
    "import requests\n",
    "import pandas as pd\n",
    "import sqlite3\n",
    "from secrets import token"
   ]
  },
  {
   "cell_type": "code",
   "execution_count": 2,
   "metadata": {},
   "outputs": [],
   "source": [
    "params = {\n",
    "  'access_key': token,\n",
    "  'dep_iata': [\"BIO\"]\n",
    "}\n",
    "\n",
    "api_result = requests.get('http://api.aviationstack.com/v1/flights', params)\n",
    "api_response = api_result.json()"
   ]
  },
  {
   "cell_type": "code",
   "execution_count": 4,
   "metadata": {},
   "outputs": [],
   "source": [
    "#api_response"
   ]
  },
  {
   "cell_type": "code",
   "execution_count": 23,
   "metadata": {},
   "outputs": [],
   "source": [
    "flight_lst = []\n",
    "\n",
    "for flight in api_response[\"data\"]:\n",
    "\n",
    "    flight_dict = {}\n",
    "\n",
    "    flight_dict['flight_date'] = flight['flight_date']\n",
    "    flight_dict['departure_airport'] = flight['departure']['airport']\n",
    "    flight_dict['departure_terminal'] = flight['departure']['terminal']\n",
    "    flight_dict['departure_gate'] = flight['departure']['gate']\n",
    "    flight_dict['departure_delay'] = flight['departure']['delay']\n",
    "    flight_dict['departure_scheduled'] = flight['departure']['scheduled']\n",
    "    flight_dict['departure_estimated'] = flight['departure']['estimated']\n",
    "    flight_dict['arrival_airport'] = flight['arrival']['airport']\n",
    "    flight_dict['arrival_terminal'] = flight['arrival']['terminal']\n",
    "    flight_dict['arrival_gate'] = flight['arrival']['gate']\n",
    "    flight_dict['arrival_delay'] = flight['arrival']['delay']\n",
    "    flight_dict['arrival_scheduled'] = flight['arrival']['scheduled']\n",
    "    flight_dict['arrival_estimated'] = flight['arrival']['estimated']\n",
    "    flight_dict['airline_name'] = flight['airline']['name']\n",
    "    flight_dict['flight_number'] = flight['flight']['number']\n",
    "\n",
    "    flight_lst.append(flight_dict)"
   ]
  },
  {
   "cell_type": "code",
   "execution_count": 44,
   "metadata": {},
   "outputs": [],
   "source": [
    "flights_df = pd.DataFrame(\n",
    "    flight_lst, \n",
    "    columns = ['flight_date', 'departure_airport', 'departure_terminal', \n",
    "        'departure_gate', 'departure_delay', 'departure_scheduled', \n",
    "        'departure_estimated', 'arrival_airport', 'arrival_terminal', \n",
    "        'arrival_gate', 'arrival_delay', 'arrival_scheduled', 'arrival_estimated', \n",
    "        'airline_name', 'flight_number'])\n",
    "flights_df[\"flight_date\"] = pd.to_datetime(flights_df[\"flight_date\"])\n",
    "flights_df[\"departure_scheduled\"] = pd.to_datetime(flights_df[\"departure_scheduled\"])\n",
    "flights_df[\"departure_estimated\"] = pd.to_datetime(flights_df[\"departure_estimated\"])\n",
    "flights_df[\"arrival_scheduled\"] = pd.to_datetime(flights_df[\"arrival_scheduled\"])\n",
    "flights_df[\"arrival_estimated\"] = pd.to_datetime(flights_df[\"arrival_estimated\"])"
   ]
  },
  {
   "cell_type": "code",
   "execution_count": 34,
   "metadata": {},
   "outputs": [
    {
     "name": "stdout",
     "output_type": "stream",
     "text": [
      "<class 'pandas.core.frame.DataFrame'>\n",
      "RangeIndex: 100 entries, 0 to 99\n",
      "Data columns (total 15 columns):\n",
      " #   Column               Non-Null Count  Dtype              \n",
      "---  ------               --------------  -----              \n",
      " 0   flight_date          100 non-null    datetime64[ns]     \n",
      " 1   departure_airport    100 non-null    object             \n",
      " 2   departure_terminal   2 non-null      object             \n",
      " 3   departure_gate       44 non-null     object             \n",
      " 4   departure_delay      50 non-null     float64            \n",
      " 5   departure_scheduled  100 non-null    datetime64[ns, UTC]\n",
      " 6   departure_estimated  100 non-null    datetime64[ns, UTC]\n",
      " 7   arrival_airport      100 non-null    object             \n",
      " 8   arrival_terminal     90 non-null     object             \n",
      " 9   arrival_gate         7 non-null      object             \n",
      " 10  arrival_delay        4 non-null      float64            \n",
      " 11  arrival_scheduled    100 non-null    datetime64[ns, UTC]\n",
      " 12  arrival_estimated    100 non-null    datetime64[ns, UTC]\n",
      " 13  airline_name         100 non-null    object             \n",
      " 14  flight_number        99 non-null     object             \n",
      "dtypes: datetime64[ns, UTC](4), datetime64[ns](1), float64(2), object(8)\n",
      "memory usage: 11.8+ KB\n"
     ]
    }
   ],
   "source": [
    "flights_df.info()"
   ]
  },
  {
   "cell_type": "code",
   "execution_count": 54,
   "metadata": {},
   "outputs": [],
   "source": [
    "#print(flights_df.head(5))"
   ]
  },
  {
   "cell_type": "code",
   "execution_count": 57,
   "metadata": {},
   "outputs": [],
   "source": [
    "conn = sqlite3.connect(\"flights.sqlite3\")\n",
    "c = conn.cursor()"
   ]
  },
  {
   "cell_type": "code",
   "execution_count": 52,
   "metadata": {},
   "outputs": [],
   "source": [
    "create_flights_query = \"\"\"\n",
    "    CREATE TABLE IF NOT EXISTS flight (\n",
    "        [index] TEXT,\n",
    "        [flight_date] TEXT,\n",
    "        [departure_airport] TEXT,\n",
    "        [departure_terminal] TEXT,\n",
    "        [departure_gate] TEXT,\n",
    "        [departure_delay] REAL,\n",
    "        [departure_scheduled] TEXT,\n",
    "        [departure_estimated] TEXT,\n",
    "        [arrival_airport] TEXT,\n",
    "        [arrival_terminal] TEXT,\n",
    "        [arrival_gate] TEXT,\n",
    "        [arrival_delay] REAL,\n",
    "        [arrival_scheduled] TEXT,\n",
    "        [arrival_estimated] TEXT,\n",
    "        [airline_name] TEXT,\n",
    "        [flight_number] TEXT        \n",
    "    );\n",
    "\"\"\"\n",
    "\n",
    "c.execute(create_flights_query)           \n",
    "conn.commit()"
   ]
  },
  {
   "cell_type": "code",
   "execution_count": 42,
   "metadata": {},
   "outputs": [],
   "source": [
    "#flights_df = pd.read_sql_query(\"SELECT * FROM flight\", conn)"
   ]
  },
  {
   "cell_type": "code",
   "execution_count": 45,
   "metadata": {},
   "outputs": [],
   "source": [
    "#flights_df.info()"
   ]
  },
  {
   "cell_type": "code",
   "execution_count": 53,
   "metadata": {},
   "outputs": [
    {
     "data": {
      "text/plain": [
       "100"
      ]
     },
     "execution_count": 53,
     "metadata": {},
     "output_type": "execute_result"
    }
   ],
   "source": [
    "flights_df.to_sql('flight', con = conn, if_exists = 'append')"
   ]
  },
  {
   "cell_type": "code",
   "execution_count": 60,
   "metadata": {},
   "outputs": [],
   "source": [
    "#resp_flights_df = pd.read_sql_query(\"SELECT * FROM flight\", conn)"
   ]
  },
  {
   "cell_type": "code",
   "execution_count": 61,
   "metadata": {},
   "outputs": [],
   "source": [
    "#resp_flights_df.head()"
   ]
  }
 ],
 "metadata": {
  "kernelspec": {
   "display_name": "Python 3.8.10 64-bit",
   "language": "python",
   "name": "python3"
  },
  "language_info": {
   "codemirror_mode": {
    "name": "ipython",
    "version": 3
   },
   "file_extension": ".py",
   "mimetype": "text/x-python",
   "name": "python",
   "nbconvert_exporter": "python",
   "pygments_lexer": "ipython3",
   "version": "3.8.10"
  },
  "orig_nbformat": 4,
  "vscode": {
   "interpreter": {
    "hash": "916dbcbb3f70747c44a77c7bcd40155683ae19c65e1c03b4aa3499c5328201f1"
   }
  }
 },
 "nbformat": 4,
 "nbformat_minor": 2
}
